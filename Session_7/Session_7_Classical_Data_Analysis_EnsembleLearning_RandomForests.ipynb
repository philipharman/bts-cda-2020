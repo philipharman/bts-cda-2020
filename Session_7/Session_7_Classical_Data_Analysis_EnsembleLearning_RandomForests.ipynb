{
 "cells": [
  {
   "cell_type": "markdown",
   "metadata": {
    "colab_type": "text",
    "id": "aB_ck5OSE3TU"
   },
   "source": [
    "![BTS](https://github.com/vfp1/bts-mbds-data-science-foundations-2019/raw/master/sessions/img/Logo-BTS.jpg)\n",
    "\n",
    "# Session 7: Ensemble Learning and Random Forests\n",
    "\n",
    "### Filipa Peleja <filipa.peleja@bts.tech>\n",
    "### Victor F. Pajuelo Madrigal <victor.pajuelo@bts.tech>\n",
    "\n",
    "## Classical Data Analysis (26-02-2021)\n",
    "\n",
    "Open this notebook in Google Colaboratory: [![Open in Colab](https://colab.research.google.com/assets/colab-badge.svg)](https://colab.research.google.com/github/vfp1/bts-cda-2020/blob/main/Session_7/Session_7_Classical_Data_Analysis_EnsembleLearning_RandomForests.ipynb)\n",
    "\n",
    "**Resources (code patched and updated from):**\n",
    "* Sklearn\n",
    "* Aurelien Geron's O'Reilly's \"Hands-On Machine Learning with Scikit-Learn, Keras & Tensorflow\""
   ]
  },
  {
   "cell_type": "markdown",
   "metadata": {
    "colab_type": "text",
    "id": "l9X1SSoaOm5W"
   },
   "source": [
    "##  Setup\n",
    "\n",
    "Following Aurelien Geron's suggestion, let's set up the working environment in our notebook."
   ]
  },
  {
   "cell_type": "code",
   "execution_count": null,
   "metadata": {
    "colab": {
     "base_uri": "https://localhost:8080/",
     "height": 52
    },
    "colab_type": "code",
    "executionInfo": {
     "elapsed": 1936,
     "status": "ok",
     "timestamp": 1581953513983,
     "user": {
      "displayName": "Victor Francisco Pajuelo Madrigal",
      "photoUrl": "",
      "userId": "14873038234550459181"
     },
     "user_tz": -60
    },
    "id": "96UJTdfWOvsi",
    "outputId": "5252ed26-7517-4e47-8bf5-b1175c9a6af7"
   },
   "outputs": [],
   "source": [
    "# Python ≥3.5 is required\n",
    "# Let's assert that that is the case\n",
    "import sys\n",
    "assert sys.version_info >= (3, 5)\n",
    "\n",
    "print(sys.version)"
   ]
  },
  {
   "cell_type": "code",
   "execution_count": null,
   "metadata": {
    "colab": {
     "base_uri": "https://localhost:8080/",
     "height": 34
    },
    "colab_type": "code",
    "executionInfo": {
     "elapsed": 4879,
     "status": "ok",
     "timestamp": 1581953516949,
     "user": {
      "displayName": "Victor Francisco Pajuelo Madrigal",
      "photoUrl": "",
      "userId": "14873038234550459181"
     },
     "user_tz": -60
    },
    "id": "6ogJIkAHTzSj",
    "outputId": "e9c5e5f6-e6f6-4ddb-8328-b9d58263208f"
   },
   "outputs": [],
   "source": [
    "# Scikit-Learn ≥0.20 is required\n",
    "import sklearn\n",
    "assert sklearn.__version__ >= \"0.20\"\n",
    "\n",
    "print(sklearn.__version__)"
   ]
  },
  {
   "cell_type": "code",
   "execution_count": null,
   "metadata": {
    "colab": {},
    "colab_type": "code",
    "id": "6EIfzq-6ULxQ"
   },
   "outputs": [],
   "source": [
    "# Common imports\n",
    "import numpy as np\n",
    "import os"
   ]
  },
  {
   "cell_type": "code",
   "execution_count": null,
   "metadata": {
    "colab": {},
    "colab_type": "code",
    "id": "9peJ1HPCUPFF"
   },
   "outputs": [],
   "source": [
    "# This will make this notebook's output stable across runs\n",
    "np.random.seed(42)"
   ]
  },
  {
   "cell_type": "code",
   "execution_count": null,
   "metadata": {
    "colab": {},
    "colab_type": "code",
    "id": "rb60GTf6UW3D"
   },
   "outputs": [],
   "source": [
    "# To plot pretty figures\n",
    "%matplotlib inline\n",
    "import matplotlib as mpl\n",
    "import matplotlib.pyplot as plt\n",
    "mpl.rc('axes', labelsize=14)\n",
    "mpl.rc('xtick', labelsize=12)\n",
    "mpl.rc('ytick', labelsize=12)"
   ]
  },
  {
   "cell_type": "code",
   "execution_count": null,
   "metadata": {
    "colab": {},
    "colab_type": "code",
    "id": "nzNDSkgmUcDS"
   },
   "outputs": [],
   "source": [
    "# Where to save the figures (adjust this to your convenience)\n",
    "PROJECT_ROOT_DIR = \".\"\n",
    "CHAPTER_ID = \"ensemble_learning\"\n",
    "IMAGES_PATH = os.path.join(PROJECT_ROOT_DIR, \"images\", CHAPTER_ID)\n",
    "os.makedirs(IMAGES_PATH, exist_ok=True)"
   ]
  },
  {
   "cell_type": "code",
   "execution_count": null,
   "metadata": {
    "colab": {},
    "colab_type": "code",
    "id": "8wNR9zAXUnkV"
   },
   "outputs": [],
   "source": [
    "# A function to save our figures\n",
    "\n",
    "def save_fig(fig_id, tight_layout=True, fig_extension=\"png\", resolution=300):\n",
    "    path = os.path.join(IMAGES_PATH, fig_id + \".\" + fig_extension)\n",
    "    print(\"Saving figure\", fig_id)\n",
    "    if tight_layout:\n",
    "        plt.tight_layout()\n",
    "    plt.savefig(path, format=fig_extension, dpi=resolution)"
   ]
  },
  {
   "cell_type": "markdown",
   "metadata": {
    "colab_type": "text",
    "id": "bYCY7sg0b1SU"
   },
   "source": [
    "# Voting classifiers"
   ]
  },
  {
   "cell_type": "markdown",
   "metadata": {
    "colab_type": "text",
    "id": "lNq1GOBLx05b"
   },
   "source": [
    "## Coin tossing\n",
    "\n",
    "UUID - #S6BC1"
   ]
  },
  {
   "cell_type": "code",
   "execution_count": null,
   "metadata": {
    "colab": {},
    "colab_type": "code",
    "id": "Gyl-dIiTb1SW"
   },
   "outputs": [],
   "source": [
    "heads_proba = 0.51\n",
    "coin_tosses = (np.random.rand(10000, 10) < heads_proba).astype(np.int32)\n",
    "cumulative_heads_ratio = np.cumsum(coin_tosses, axis=0) / np.arange(1, 10001).reshape(-1, 1)"
   ]
  },
  {
   "cell_type": "code",
   "execution_count": null,
   "metadata": {
    "colab": {
     "base_uri": "https://localhost:8080/",
     "height": 140
    },
    "colab_type": "code",
    "executionInfo": {
     "elapsed": 4819,
     "status": "ok",
     "timestamp": 1581953516954,
     "user": {
      "displayName": "Victor Francisco Pajuelo Madrigal",
      "photoUrl": "",
      "userId": "14873038234550459181"
     },
     "user_tz": -60
    },
    "id": "49V5uNwZVRM9",
    "outputId": "6017856d-8f6d-4b7f-d2f0-eb138d3af8ad"
   },
   "outputs": [],
   "source": [
    "coin_tosses"
   ]
  },
  {
   "cell_type": "code",
   "execution_count": null,
   "metadata": {
    "colab": {
     "base_uri": "https://localhost:8080/",
     "height": 52
    },
    "colab_type": "code",
    "executionInfo": {
     "elapsed": 4798,
     "status": "ok",
     "timestamp": 1581953516955,
     "user": {
      "displayName": "Victor Francisco Pajuelo Madrigal",
      "photoUrl": "",
      "userId": "14873038234550459181"
     },
     "user_tz": -60
    },
    "id": "maVmoqz1dw-A",
    "outputId": "38df2aa4-f594-43da-e806-ac296eaf13d0"
   },
   "outputs": [],
   "source": [
    "cumulative_heads_ratio[500]"
   ]
  },
  {
   "cell_type": "code",
   "execution_count": null,
   "metadata": {
    "colab": {
     "base_uri": "https://localhost:8080/",
     "height": 52
    },
    "colab_type": "code",
    "executionInfo": {
     "elapsed": 4778,
     "status": "ok",
     "timestamp": 1581953516956,
     "user": {
      "displayName": "Victor Francisco Pajuelo Madrigal",
      "photoUrl": "",
      "userId": "14873038234550459181"
     },
     "user_tz": -60
    },
    "id": "5UGZZRi9eX6S",
    "outputId": "654b4e74-acfe-4b6f-d4b9-5a82e1e23df2"
   },
   "outputs": [],
   "source": [
    "cumulative_heads_ratio[1000]"
   ]
  },
  {
   "cell_type": "code",
   "execution_count": null,
   "metadata": {
    "colab": {
     "base_uri": "https://localhost:8080/",
     "height": 284
    },
    "colab_type": "code",
    "executionInfo": {
     "elapsed": 5292,
     "status": "ok",
     "timestamp": 1581953517491,
     "user": {
      "displayName": "Victor Francisco Pajuelo Madrigal",
      "photoUrl": "",
      "userId": "14873038234550459181"
     },
     "user_tz": -60
    },
    "id": "I7VpATZhb1Sa",
    "outputId": "9106bcfb-571a-45c4-f26e-41291010d283"
   },
   "outputs": [],
   "source": [
    "plt.figure(figsize=(8,3.5))\n",
    "plt.plot(cumulative_heads_ratio)\n",
    "plt.plot([0, 10000], [0.51, 0.51], \"k--\", linewidth=2, label=\"51%\")\n",
    "plt.plot([0, 10000], [0.5, 0.5], \"k-\", label=\"50%\")\n",
    "plt.xlabel(\"Number of coin tosses\")\n",
    "plt.ylabel(\"Heads ratio\")\n",
    "plt.legend(loc=\"lower right\")\n",
    "plt.axis([0, 10000, 0.42, 0.58])\n",
    "save_fig(\"law_of_large_numbers_plot\")\n",
    "plt.show()"
   ]
  },
  {
   "cell_type": "markdown",
   "metadata": {
    "colab_type": "text",
    "id": "T1lov3JHyChm"
   },
   "source": [
    "## Hard voting classifier with Make Moons\n",
    "\n",
    "UUID - #S6BC2"
   ]
  },
  {
   "cell_type": "code",
   "execution_count": null,
   "metadata": {
    "colab": {},
    "colab_type": "code",
    "id": "Cvipzi07b1Sf"
   },
   "outputs": [],
   "source": [
    "from sklearn.model_selection import train_test_split\n",
    "from sklearn.datasets import make_moons\n",
    "\n",
    "X, y = make_moons(n_samples=500, noise=0.30, random_state=42)\n",
    "X_train, X_test, y_train, y_test = train_test_split(X, y, random_state=42)"
   ]
  },
  {
   "cell_type": "markdown",
   "metadata": {
    "colab_type": "text",
    "id": "vjm3hMAbb1Sj"
   },
   "source": [
    "**Note**: to be future-proof, we set `solver=\"lbfgs\"`, `n_estimators=100`, and `gamma=\"scale\"` since these will be the default values in upcoming Scikit-Learn versions."
   ]
  },
  {
   "cell_type": "code",
   "execution_count": null,
   "metadata": {
    "colab": {},
    "colab_type": "code",
    "id": "KGM3HIBYb1Sk"
   },
   "outputs": [],
   "source": [
    "from sklearn.ensemble import RandomForestClassifier\n",
    "from sklearn.ensemble import VotingClassifier\n",
    "from sklearn.linear_model import LogisticRegression\n",
    "from sklearn.svm import SVC\n",
    "\n",
    "log_clf = LogisticRegression(solver=\"lbfgs\", random_state=42)\n",
    "rnd_clf = RandomForestClassifier(n_estimators=100, random_state=42)\n",
    "svm_clf = SVC(gamma=\"scale\", random_state=42)\n",
    "\n",
    "voting_clf = VotingClassifier(\n",
    "    estimators=[('lr', log_clf), ('rf', rnd_clf), ('svc', svm_clf)],\n",
    "    voting='hard')"
   ]
  },
  {
   "cell_type": "code",
   "execution_count": null,
   "metadata": {
    "colab": {
     "base_uri": "https://localhost:8080/",
     "height": 492
    },
    "colab_type": "code",
    "executionInfo": {
     "elapsed": 6010,
     "status": "ok",
     "timestamp": 1581953518241,
     "user": {
      "displayName": "Victor Francisco Pajuelo Madrigal",
      "photoUrl": "",
      "userId": "14873038234550459181"
     },
     "user_tz": -60
    },
    "id": "igNYn52wb1Sp",
    "outputId": "14fe3914-ab2d-4aed-8f30-22540cec25ec"
   },
   "outputs": [],
   "source": [
    "voting_clf.fit(X_train, y_train)"
   ]
  },
  {
   "cell_type": "code",
   "execution_count": null,
   "metadata": {
    "colab": {
     "base_uri": "https://localhost:8080/",
     "height": 87
    },
    "colab_type": "code",
    "executionInfo": {
     "elapsed": 5996,
     "status": "ok",
     "timestamp": 1581953518242,
     "user": {
      "displayName": "Victor Francisco Pajuelo Madrigal",
      "photoUrl": "",
      "userId": "14873038234550459181"
     },
     "user_tz": -60
    },
    "id": "8Hj4tp4jb1St",
    "outputId": "10af49f4-e121-4307-ca43-6af20b196ca2"
   },
   "outputs": [],
   "source": [
    "from sklearn.metrics import accuracy_score\n",
    "\n",
    "for clf in (log_clf, rnd_clf, svm_clf, voting_clf):\n",
    "    clf.fit(X_train, y_train)\n",
    "    y_pred = clf.predict(X_test)\n",
    "    print(clf.__class__.__name__, accuracy_score(y_test, y_pred))"
   ]
  },
  {
   "cell_type": "markdown",
   "metadata": {
    "colab_type": "text",
    "id": "59gs_sxmb1Sx"
   },
   "source": [
    "## Soft voting classifier with Make Moons\n",
    "\n",
    "UUID - #S6BC3"
   ]
  },
  {
   "cell_type": "code",
   "execution_count": null,
   "metadata": {
    "colab": {
     "base_uri": "https://localhost:8080/",
     "height": 492
    },
    "colab_type": "code",
    "executionInfo": {
     "elapsed": 5982,
     "status": "ok",
     "timestamp": 1581953518243,
     "user": {
      "displayName": "Victor Francisco Pajuelo Madrigal",
      "photoUrl": "",
      "userId": "14873038234550459181"
     },
     "user_tz": -60
    },
    "id": "lvYjVaHhb1Sy",
    "outputId": "5b0de346-2bc0-44f3-a6c0-7f22c4176fa7"
   },
   "outputs": [],
   "source": [
    "log_clf = LogisticRegression(solver=\"lbfgs\", random_state=42)\n",
    "rnd_clf = RandomForestClassifier(n_estimators=100, random_state=42)\n",
    "svm_clf = SVC(gamma=\"scale\", probability=True, random_state=42)\n",
    "\n",
    "voting_clf = VotingClassifier(\n",
    "    estimators=[('lr', log_clf), ('rf', rnd_clf), ('svc', svm_clf)],\n",
    "    voting='soft')\n",
    "voting_clf.fit(X_train, y_train)"
   ]
  },
  {
   "cell_type": "code",
   "execution_count": null,
   "metadata": {
    "colab": {
     "base_uri": "https://localhost:8080/",
     "height": 87
    },
    "colab_type": "code",
    "executionInfo": {
     "elapsed": 7296,
     "status": "ok",
     "timestamp": 1581953519574,
     "user": {
      "displayName": "Victor Francisco Pajuelo Madrigal",
      "photoUrl": "",
      "userId": "14873038234550459181"
     },
     "user_tz": -60
    },
    "id": "uq6mJOlhb1S2",
    "outputId": "62319da7-adc2-4909-fef1-8bfe40845060"
   },
   "outputs": [],
   "source": [
    "from sklearn.metrics import accuracy_score\n",
    "\n",
    "for clf in (log_clf, rnd_clf, svm_clf, voting_clf):\n",
    "    clf.fit(X_train, y_train)\n",
    "    y_pred = clf.predict(X_test)\n",
    "    print(clf.__class__.__name__, accuracy_score(y_test, y_pred))"
   ]
  },
  {
   "cell_type": "markdown",
   "metadata": {
    "colab_type": "text",
    "id": "2oDVuZPUb1S7"
   },
   "source": [
    "# Bagging ensembles\n",
    "\n",
    "UUID - #S6BC4"
   ]
  },
  {
   "cell_type": "code",
   "execution_count": null,
   "metadata": {
    "colab": {},
    "colab_type": "code",
    "id": "_6Bgk4cpb1S8"
   },
   "outputs": [],
   "source": [
    "from sklearn.ensemble import BaggingClassifier\n",
    "from sklearn.tree import DecisionTreeClassifier\n",
    "\n",
    "bag_clf = BaggingClassifier(\n",
    "    DecisionTreeClassifier(random_state=42), n_estimators=500,\n",
    "    max_samples=100, bootstrap=True, random_state=42)\n",
    "bag_clf.fit(X_train, y_train)\n",
    "y_pred = bag_clf.predict(X_test)"
   ]
  },
  {
   "cell_type": "code",
   "execution_count": null,
   "metadata": {
    "colab": {
     "base_uri": "https://localhost:8080/",
     "height": 34
    },
    "colab_type": "code",
    "executionInfo": {
     "elapsed": 8405,
     "status": "ok",
     "timestamp": 1581953520709,
     "user": {
      "displayName": "Victor Francisco Pajuelo Madrigal",
      "photoUrl": "",
      "userId": "14873038234550459181"
     },
     "user_tz": -60
    },
    "id": "NcqZjF0pb1TA",
    "outputId": "66394994-37ed-483a-a15e-bffe94484cc1"
   },
   "outputs": [],
   "source": [
    "from sklearn.metrics import accuracy_score\n",
    "print(accuracy_score(y_test, y_pred))"
   ]
  },
  {
   "cell_type": "code",
   "execution_count": null,
   "metadata": {
    "colab": {
     "base_uri": "https://localhost:8080/",
     "height": 34
    },
    "colab_type": "code",
    "executionInfo": {
     "elapsed": 8389,
     "status": "ok",
     "timestamp": 1581953520710,
     "user": {
      "displayName": "Victor Francisco Pajuelo Madrigal",
      "photoUrl": "",
      "userId": "14873038234550459181"
     },
     "user_tz": -60
    },
    "id": "EqDrvLveb1TE",
    "outputId": "856cd7e7-57ad-423e-81da-677c038bd862"
   },
   "outputs": [],
   "source": [
    "tree_clf = DecisionTreeClassifier(random_state=42)\n",
    "tree_clf.fit(X_train, y_train)\n",
    "y_pred_tree = tree_clf.predict(X_test)\n",
    "print(accuracy_score(y_test, y_pred_tree))"
   ]
  },
  {
   "cell_type": "code",
   "execution_count": null,
   "metadata": {
    "colab": {},
    "colab_type": "code",
    "id": "lK5UKVAZb1TJ"
   },
   "outputs": [],
   "source": [
    "from matplotlib.colors import ListedColormap\n",
    "\n",
    "def plot_decision_boundary(clf, X, y, axes=[-1.5, 2.45, -1, 1.5], alpha=0.5, contour=True):\n",
    "    x1s = np.linspace(axes[0], axes[1], 100)\n",
    "    x2s = np.linspace(axes[2], axes[3], 100)\n",
    "    x1, x2 = np.meshgrid(x1s, x2s)\n",
    "    X_new = np.c_[x1.ravel(), x2.ravel()]\n",
    "    y_pred = clf.predict(X_new).reshape(x1.shape)\n",
    "    custom_cmap = ListedColormap(['#fafab0','#9898ff','#a0faa0'])\n",
    "    plt.contourf(x1, x2, y_pred, alpha=0.3, cmap=custom_cmap)\n",
    "    if contour:\n",
    "        custom_cmap2 = ListedColormap(['#7d7d58','#4c4c7f','#507d50'])\n",
    "        plt.contour(x1, x2, y_pred, cmap=custom_cmap2, alpha=0.8)\n",
    "    plt.plot(X[:, 0][y==0], X[:, 1][y==0], \"yo\", alpha=alpha)\n",
    "    plt.plot(X[:, 0][y==1], X[:, 1][y==1], \"bs\", alpha=alpha)\n",
    "    plt.axis(axes)\n",
    "    plt.xlabel(r\"$x_1$\", fontsize=18)\n",
    "    plt.ylabel(r\"$x_2$\", fontsize=18, rotation=0)"
   ]
  },
  {
   "cell_type": "code",
   "execution_count": null,
   "metadata": {
    "colab": {
     "base_uri": "https://localhost:8080/",
     "height": 314
    },
    "colab_type": "code",
    "executionInfo": {
     "elapsed": 9743,
     "status": "ok",
     "timestamp": 1581953522089,
     "user": {
      "displayName": "Victor Francisco Pajuelo Madrigal",
      "photoUrl": "",
      "userId": "14873038234550459181"
     },
     "user_tz": -60
    },
    "id": "F45DQGYcb1TL",
    "outputId": "1d1ecbd9-34dc-4b6f-96be-110860c34871"
   },
   "outputs": [],
   "source": [
    "fix, axes = plt.subplots(ncols=2, figsize=(10,4), sharey=True)\n",
    "plt.sca(axes[0])\n",
    "plot_decision_boundary(tree_clf, X, y)\n",
    "plt.title(\"Decision Tree\", fontsize=14)\n",
    "plt.sca(axes[1])\n",
    "plot_decision_boundary(bag_clf, X, y)\n",
    "plt.title(\"Decision Trees with Bagging\", fontsize=14)\n",
    "plt.ylabel(\"\")\n",
    "save_fig(\"decision_tree_without_and_with_bagging_plot\")\n",
    "plt.show()"
   ]
  },
  {
   "cell_type": "markdown",
   "metadata": {
    "colab_type": "text",
    "id": "SDH-cqtXwLTc"
   },
   "source": [
    "## Out-of-Bag evaluation\n",
    "\n",
    "UUID - #S6BC5"
   ]
  },
  {
   "cell_type": "code",
   "execution_count": null,
   "metadata": {
    "colab": {
     "base_uri": "https://localhost:8080/",
     "height": 34
    },
    "colab_type": "code",
    "executionInfo": {
     "elapsed": 10412,
     "status": "ok",
     "timestamp": 1581953522776,
     "user": {
      "displayName": "Victor Francisco Pajuelo Madrigal",
      "photoUrl": "",
      "userId": "14873038234550459181"
     },
     "user_tz": -60
    },
    "id": "X_tRHKWpwLTg",
    "outputId": "8e23af5a-41db-427a-c9eb-b05e01643a47"
   },
   "outputs": [],
   "source": [
    "bag_clf = BaggingClassifier(\n",
    "    DecisionTreeClassifier(random_state=42), n_estimators=500,\n",
    "    bootstrap=True, oob_score=True, random_state=40)\n",
    "bag_clf.fit(X_train, y_train)\n",
    "bag_clf.oob_score_"
   ]
  },
  {
   "cell_type": "code",
   "execution_count": null,
   "metadata": {
    "colab": {
     "base_uri": "https://localhost:8080/",
     "height": 1000
    },
    "colab_type": "code",
    "executionInfo": {
     "elapsed": 10399,
     "status": "ok",
     "timestamp": 1581953522777,
     "user": {
      "displayName": "Victor Francisco Pajuelo Madrigal",
      "photoUrl": "",
      "userId": "14873038234550459181"
     },
     "user_tz": -60
    },
    "id": "bre23RkewLTm",
    "outputId": "68dfbda8-5bf1-4bfc-adc6-19e4af56b014"
   },
   "outputs": [],
   "source": [
    "bag_clf.oob_decision_function_"
   ]
  },
  {
   "cell_type": "code",
   "execution_count": null,
   "metadata": {
    "colab": {
     "base_uri": "https://localhost:8080/",
     "height": 34
    },
    "colab_type": "code",
    "executionInfo": {
     "elapsed": 10387,
     "status": "ok",
     "timestamp": 1581953522779,
     "user": {
      "displayName": "Victor Francisco Pajuelo Madrigal",
      "photoUrl": "",
      "userId": "14873038234550459181"
     },
     "user_tz": -60
    },
    "id": "h9p4fquIwLTr",
    "outputId": "748d3ad3-2bc9-4d9f-c9e4-d27f1414a378"
   },
   "outputs": [],
   "source": [
    "from sklearn.metrics import accuracy_score\n",
    "y_pred = bag_clf.predict(X_test)\n",
    "accuracy_score(y_test, y_pred)"
   ]
  },
  {
   "cell_type": "markdown",
   "metadata": {
    "colab_type": "text",
    "id": "52P-vtQMb1TP"
   },
   "source": [
    "# Random Forests"
   ]
  },
  {
   "cell_type": "markdown",
   "metadata": {
    "colab_type": "text",
    "id": "vCI6fJbOx2zb"
   },
   "source": [
    "## Building a Random Forest with a Bagging Classifier\n",
    "\n",
    "UUID - #S6BC6"
   ]
  },
  {
   "cell_type": "code",
   "execution_count": null,
   "metadata": {
    "colab": {},
    "colab_type": "code",
    "id": "Grpxswq7b1TQ"
   },
   "outputs": [],
   "source": [
    "bag_clf = BaggingClassifier(\n",
    "    DecisionTreeClassifier(splitter=\"random\", max_leaf_nodes=16, random_state=42),\n",
    "    n_estimators=500, max_samples=1.0, bootstrap=True, random_state=42)"
   ]
  },
  {
   "cell_type": "code",
   "execution_count": null,
   "metadata": {
    "colab": {},
    "colab_type": "code",
    "id": "Dis93yDTb1TT"
   },
   "outputs": [],
   "source": [
    "bag_clf.fit(X_train, y_train)\n",
    "y_pred = bag_clf.predict(X_test)"
   ]
  },
  {
   "cell_type": "markdown",
   "metadata": {
    "colab_type": "text",
    "id": "1eZgNAtbx-0C"
   },
   "source": [
    "## Building a Ranfom Forest with the RandomForestClassifier class\n",
    "\n",
    "UUID - #S6BC6\n"
   ]
  },
  {
   "cell_type": "code",
   "execution_count": null,
   "metadata": {
    "colab": {},
    "colab_type": "code",
    "id": "LGOsneajb1TW"
   },
   "outputs": [],
   "source": [
    "from sklearn.ensemble import RandomForestClassifier\n",
    "\n",
    "rnd_clf = RandomForestClassifier(n_estimators=500, max_leaf_nodes=16, random_state=42)\n",
    "rnd_clf.fit(X_train, y_train)\n",
    "\n",
    "y_pred_rf = rnd_clf.predict(X_test)"
   ]
  },
  {
   "cell_type": "code",
   "execution_count": null,
   "metadata": {
    "colab": {
     "base_uri": "https://localhost:8080/",
     "height": 34
    },
    "colab_type": "code",
    "executionInfo": {
     "elapsed": 12883,
     "status": "ok",
     "timestamp": 1581953525311,
     "user": {
      "displayName": "Victor Francisco Pajuelo Madrigal",
      "photoUrl": "",
      "userId": "14873038234550459181"
     },
     "user_tz": -60
    },
    "id": "d3Af6_HNb1Ta",
    "outputId": "cfb7aca4-ea6a-4b0c-eb62-66dfa31b6146"
   },
   "outputs": [],
   "source": [
    "np.sum(y_pred == y_pred_rf) / len(y_pred)  # almost identical predictions"
   ]
  },
  {
   "cell_type": "code",
   "execution_count": null,
   "metadata": {
    "colab": {
     "base_uri": "https://localhost:8080/",
     "height": 87
    },
    "colab_type": "code",
    "executionInfo": {
     "elapsed": 14170,
     "status": "ok",
     "timestamp": 1581953526612,
     "user": {
      "displayName": "Victor Francisco Pajuelo Madrigal",
      "photoUrl": "",
      "userId": "14873038234550459181"
     },
     "user_tz": -60
    },
    "id": "r4Ei_sULb1Tl",
    "outputId": "c3113261-f2ae-4788-9a8a-aea381ea56f3"
   },
   "outputs": [],
   "source": [
    "from sklearn.datasets import load_iris\n",
    "iris = load_iris()\n",
    "rnd_clf = RandomForestClassifier(n_estimators=500, random_state=42)\n",
    "rnd_clf.fit(iris[\"data\"], iris[\"target\"])\n",
    "for name, score in zip(iris[\"feature_names\"], rnd_clf.feature_importances_):\n",
    "    print(name, score)"
   ]
  },
  {
   "cell_type": "code",
   "execution_count": null,
   "metadata": {
    "colab": {
     "base_uri": "https://localhost:8080/",
     "height": 34
    },
    "colab_type": "code",
    "executionInfo": {
     "elapsed": 14157,
     "status": "ok",
     "timestamp": 1581953526614,
     "user": {
      "displayName": "Victor Francisco Pajuelo Madrigal",
      "photoUrl": "",
      "userId": "14873038234550459181"
     },
     "user_tz": -60
    },
    "id": "iN8JsaCPb1To",
    "outputId": "b81bace6-970d-498f-c5e6-0629c63c6a1e"
   },
   "outputs": [],
   "source": [
    "rnd_clf.feature_importances_"
   ]
  },
  {
   "cell_type": "code",
   "execution_count": null,
   "metadata": {
    "colab": {
     "base_uri": "https://localhost:8080/",
     "height": 295
    },
    "colab_type": "code",
    "executionInfo": {
     "elapsed": 14142,
     "status": "ok",
     "timestamp": 1581953526616,
     "user": {
      "displayName": "Victor Francisco Pajuelo Madrigal",
      "photoUrl": "",
      "userId": "14873038234550459181"
     },
     "user_tz": -60
    },
    "id": "3p3W44k-b1Tr",
    "outputId": "6a2cce12-f99a-4abf-f740-c377dde1d324"
   },
   "outputs": [],
   "source": [
    "plt.figure(figsize=(6, 4))\n",
    "\n",
    "for i in range(15):\n",
    "    tree_clf = DecisionTreeClassifier(max_leaf_nodes=16, random_state=42 + i)\n",
    "    indices_with_replacement = np.random.randint(0, len(X_train), len(X_train))\n",
    "    tree_clf.fit(X[indices_with_replacement], y[indices_with_replacement])\n",
    "    plot_decision_boundary(tree_clf, X, y, axes=[-1.5, 2.45, -1, 1.5], alpha=0.02, contour=False)\n",
    "\n",
    "plt.show()"
   ]
  },
  {
   "cell_type": "markdown",
   "metadata": {
    "colab_type": "text",
    "id": "eEwR_L5qb1T7"
   },
   "source": [
    "## Feature importance\n",
    "\n",
    "UUID - #S6BC7"
   ]
  },
  {
   "cell_type": "code",
   "execution_count": null,
   "metadata": {
    "colab": {},
    "colab_type": "code",
    "id": "r1V03itgb1T8"
   },
   "outputs": [],
   "source": [
    "from sklearn.datasets import fetch_openml\n",
    "import numpy as np\n",
    "\n",
    "mnist = fetch_openml('mnist_784', version=1)\n",
    "mnist.target = mnist.target.astype(np.uint8)"
   ]
  },
  {
   "cell_type": "code",
   "execution_count": null,
   "metadata": {
    "colab": {
     "base_uri": "https://localhost:8080/",
     "height": 158
    },
    "colab_type": "code",
    "executionInfo": {
     "elapsed": 103683,
     "status": "ok",
     "timestamp": 1581953616181,
     "user": {
      "displayName": "Victor Francisco Pajuelo Madrigal",
      "photoUrl": "",
      "userId": "14873038234550459181"
     },
     "user_tz": -60
    },
    "id": "F5QKk28Db1UA",
    "outputId": "2708976d-48b7-4125-b8b8-a35fcdcdc30f"
   },
   "outputs": [],
   "source": [
    "from sklearn.ensemble import RandomForestClassifier\n",
    "\n",
    "rnd_clf = RandomForestClassifier(n_estimators=100, random_state=42)\n",
    "rnd_clf.fit(mnist[\"data\"], mnist[\"target\"])"
   ]
  },
  {
   "cell_type": "code",
   "execution_count": null,
   "metadata": {
    "colab": {},
    "colab_type": "code",
    "id": "e5OKKG1Sb1UE"
   },
   "outputs": [],
   "source": [
    "import matplotlib.pyplot as plt\n",
    "import matplotlib as mpl\n",
    "\n",
    "def plot_digit(data):\n",
    "    image = data.reshape(28, 28)\n",
    "    plt.imshow(image, cmap = mpl.cm.terrain,\n",
    "               interpolation=\"nearest\")\n",
    "    plt.axis(\"off\")"
   ]
  },
  {
   "cell_type": "code",
   "execution_count": null,
   "metadata": {
    "colab": {
     "base_uri": "https://localhost:8080/",
     "height": 261
    },
    "colab_type": "code",
    "executionInfo": {
     "elapsed": 103663,
     "status": "ok",
     "timestamp": 1581953616184,
     "user": {
      "displayName": "Victor Francisco Pajuelo Madrigal",
      "photoUrl": "",
      "userId": "14873038234550459181"
     },
     "user_tz": -60
    },
    "id": "ealiqSAuCnvT",
    "outputId": "0fe9658d-d97d-4c7e-e7cb-8d4ea5a946a9"
   },
   "outputs": [],
   "source": [
    "image = rnd_clf.feature_importances_.reshape(28, 28)\n",
    "plt.imshow(image, cmap = mpl.cm.terrain, interpolation=\"nearest\")\n",
    "plt.axis(\"off\")\n",
    "cbar = plt.colorbar(ticks=[rnd_clf.feature_importances_.min(), rnd_clf.feature_importances_.max()])\n",
    "cbar.ax.set_yticklabels(['Not important', 'Very important'])\n",
    "plt.show()"
   ]
  },
  {
   "cell_type": "code",
   "execution_count": null,
   "metadata": {
    "colab": {
     "base_uri": "https://localhost:8080/",
     "height": 314
    },
    "colab_type": "code",
    "executionInfo": {
     "elapsed": 104051,
     "status": "ok",
     "timestamp": 1581953616586,
     "user": {
      "displayName": "Victor Francisco Pajuelo Madrigal",
      "photoUrl": "",
      "userId": "14873038234550459181"
     },
     "user_tz": -60
    },
    "id": "KXOrG9Ztb1UI",
    "outputId": "3434eb64-be98-4a8a-800a-586df6872a8d"
   },
   "outputs": [],
   "source": [
    "plot_digit(rnd_clf.feature_importances_)\n",
    "\n",
    "cbar = plt.colorbar(ticks=[rnd_clf.feature_importances_.min(), rnd_clf.feature_importances_.max()])\n",
    "cbar.ax.set_yticklabels(['Not important', 'Very important'])\n",
    "\n",
    "save_fig(\"mnist_feature_importance_plot\")\n",
    "plt.show()"
   ]
  },
  {
   "cell_type": "markdown",
   "metadata": {
    "colab_type": "text",
    "collapsed": true,
    "id": "Y7B1NuoMb1WE"
   },
   "source": [
    "# In class exercises [They are part of the assignment]"
   ]
  },
  {
   "cell_type": "markdown",
   "metadata": {
    "colab_type": "text",
    "id": "sM2MtDzA3GOK"
   },
   "source": [
    "## My second (now proper) Random Forest\n",
    "\n",
    "Load the MNIST data or any other dataset that you prefer, and split it into a training set, a\n",
    "validation set, and a test set. \n",
    "\n",
    "Then train a RandomForest with it and note down the overall accuracy (think if you need to use OOB evaluation)"
   ]
  },
  {
   "cell_type": "markdown",
   "metadata": {
    "colab_type": "text",
    "id": "IJ-vNJPQ3ZNH"
   },
   "source": [
    "## A forest within a forest\n",
    "\n",
    "Now train as well other algorithms that we have seen (Extra Trees, SVMs) and compare accuracies with the Random Forest you just created. Perhaps we can do a little bit better. We know that Random Forests are an ensemble per se, but what about making an ensemble of ensembles? What about using all the algorithms we have trained?\n",
    "\n",
    "Go ahead and build a hard or soft voting classifier with all the three algorithms. Once you have yours, go ahead and test the results over the test set. Note the differences between single and ensemble methods.\n",
    "\n",
    "Reply to the following questions:\n",
    "\n",
    "* What are the overall accuracies out of each model? And on the test set for each model?\n",
    "* What are the test accuracies over the voting classifier?\n",
    "* Why ensemble methods tend to perform better?"
   ]
  },
  {
   "cell_type": "code",
   "execution_count": null,
   "metadata": {
    "colab": {},
    "colab_type": "code",
    "id": "O3fbea4Y4Gle"
   },
   "outputs": [],
   "source": []
  },
  {
   "cell_type": "code",
   "execution_count": null,
   "metadata": {},
   "outputs": [],
   "source": []
  },
  {
   "cell_type": "code",
   "execution_count": null,
   "metadata": {},
   "outputs": [],
   "source": []
  },
  {
   "cell_type": "code",
   "execution_count": null,
   "metadata": {},
   "outputs": [],
   "source": []
  }
 ],
 "metadata": {
  "colab": {
   "collapsed_sections": [],
   "name": "Session_6B_Classical_Data_Analysis_EnsembleLearning_RandomForests.ipynb",
   "provenance": [],
   "toc_visible": true
  },
  "kernelspec": {
   "display_name": "Python 3",
   "language": "python",
   "name": "python3"
  },
  "language_info": {
   "codemirror_mode": {
    "name": "ipython",
    "version": 3
   },
   "file_extension": ".py",
   "mimetype": "text/x-python",
   "name": "python",
   "nbconvert_exporter": "python",
   "pygments_lexer": "ipython3",
   "version": "3.7.4"
  }
 },
 "nbformat": 4,
 "nbformat_minor": 1
}
